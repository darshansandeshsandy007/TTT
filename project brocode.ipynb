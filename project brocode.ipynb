{
 "cells": [
  {
   "cell_type": "code",
   "execution_count": 6,
   "id": "9ff6d915",
   "metadata": {},
   "outputs": [
    {
     "name": "stdout",
     "output_type": "stream",
     "text": [
      "pygame 2.5.2 (SDL 2.28.3, Python 3.11.5)\n",
      "Hello from the pygame community. https://www.pygame.org/contribute.html\n"
     ]
    }
   ],
   "source": [
    "import copy\n",
    "import sys\n",
    "import pygame\n",
    "import random\n",
    "import numpy as np"
   ]
  },
  {
   "cell_type": "code",
   "execution_count": null,
   "id": "8cf6e22c",
   "metadata": {},
   "outputs": [],
   "source": [
    "# ---------\n",
    "# CONSTANTS\n",
    "# ---------\n",
    "\n",
    "# --- PIXELS ---\n",
    "\n",
    "WIDTH = 600\n",
    "HEIGHT = 600\n",
    "\n",
    "ROWS = 3\n",
    "COLS = 3\n",
    "SQSIZE = WIDTH // COLS\n",
    "\n",
    "LINE_WIDTH = 15\n",
    "CIRC_WIDTH = 15\n",
    "CROSS_WIDTH = 20\n",
    "\n",
    "RADIUS = SQSIZE // 4\n",
    "\n",
    "OFFSET = 50\n",
    "\n",
    "# --- COLORS ---\n",
    "\n",
    "BG_COLOR = (28, 170, 156)\n",
    "LINE_COLOR = (23, 145, 135)\n",
    "CIRC_COLOR = (239, 231, 200)\n",
    "CROSS_COLOR = (66, 66, 66)"
   ]
  },
  {
   "cell_type": "code",
   "execution_count": 5,
   "id": "e06803d3",
   "metadata": {},
   "outputs": [
    {
     "name": "stdout",
     "output_type": "stream",
     "text": [
      "Requirement already satisfied: pygame in d:\\anocondo\\lib\\site-packages (2.5.2)\n",
      "Note: you may need to restart the kernel to use updated packages.\n"
     ]
    }
   ],
   "source": [
    "pip install pygame\n"
   ]
  },
  {
   "cell_type": "code",
   "execution_count": null,
   "id": "28e42096",
   "metadata": {},
   "outputs": [],
   "source": []
  }
 ],
 "metadata": {
  "kernelspec": {
   "display_name": "Python 3 (ipykernel)",
   "language": "python",
   "name": "python3"
  },
  "language_info": {
   "codemirror_mode": {
    "name": "ipython",
    "version": 3
   },
   "file_extension": ".py",
   "mimetype": "text/x-python",
   "name": "python",
   "nbconvert_exporter": "python",
   "pygments_lexer": "ipython3",
   "version": "3.11.5"
  }
 },
 "nbformat": 4,
 "nbformat_minor": 5
}
